{
 "cells": [
  {
   "cell_type": "code",
   "execution_count": 1,
   "metadata": {},
   "outputs": [
    {
     "data": {
      "text/html": [
       "<script>\n",
       "code_show=true; \n",
       "function code_toggle() {\n",
       " if (code_show){\n",
       " $('div.input').hide();\n",
       " } else {\n",
       " $('div.input').show();\n",
       " }\n",
       " code_show = !code_show\n",
       "} \n",
       "$( document ).ready(code_toggle);\n",
       "</script>\n",
       "<form action=\"javascript:code_toggle()\"><input type=\"submit\" value=\"Click here to toggle on/off the raw code.\"></form>"
      ],
      "text/plain": [
       "<IPython.core.display.HTML object>"
      ]
     },
     "execution_count": 1,
     "metadata": {},
     "output_type": "execute_result"
    }
   ],
   "source": [
    "from IPython.display import HTML\n",
    "\n",
    "HTML('''<script>\n",
    "code_show=true; \n",
    "function code_toggle() {\n",
    " if (code_show){\n",
    " $('div.input').hide();\n",
    " } else {\n",
    " $('div.input').show();\n",
    " }\n",
    " code_show = !code_show\n",
    "} \n",
    "$( document ).ready(code_toggle);\n",
    "</script>\n",
    "<form action=\"javascript:code_toggle()\"><input type=\"submit\" value=\"Click here to toggle on/off the raw code.\"></form>''')"
   ]
  },
  {
   "cell_type": "markdown",
   "metadata": {},
   "source": [
    "This javascript makes sure that the output does not condense into a window that must be scrolled through"
   ]
  },
  {
   "cell_type": "code",
   "execution_count": 2,
   "metadata": {},
   "outputs": [
    {
     "data": {
      "application/javascript": [
       "IPython.OutputArea.prototype._should_scroll = function(lines) {\n",
       "    return false;\n",
       "}"
      ],
      "text/plain": [
       "<IPython.core.display.Javascript object>"
      ]
     },
     "metadata": {},
     "output_type": "display_data"
    }
   ],
   "source": [
    "%%javascript\n",
    "IPython.OutputArea.prototype._should_scroll = function(lines) {\n",
    "    return false;\n",
    "}"
   ]
  },
  {
   "cell_type": "code",
   "execution_count": 3,
   "metadata": {
    "collapsed": true
   },
   "outputs": [],
   "source": [
    "# Import necessary packages\n",
    "\n",
    "import requests as req\n",
    "import plotly.graph_objs as go\n",
    "import pandas as pd\n",
    "import plotly.plotly as py\n",
    "from IPython.display import display\n",
    "import io"
   ]
  },
  {
   "cell_type": "code",
   "execution_count": 4,
   "metadata": {
    "collapsed": true
   },
   "outputs": [],
   "source": [
    "# Create User GUI Checkbox interface class\n",
    "\n",
    "import Tkinter\n",
    "import tkMessageBox\n",
    "\n",
    "class MyGUI:\n",
    "    def __init__(self,names,title):\n",
    "        # Create the main window.\n",
    "        self.main_window = Tkinter.Tk()\n",
    "        self.main_window.title(title)\n",
    "        self.main_window.geometry(\"600x500\")\n",
    "\n",
    "        # Create two frames. One for the checkbuttons\n",
    "        # and another for the regular Button widgets.\n",
    "        self.top_frame = Tkinter.Frame(self.main_window)\n",
    "        self.bottom_frame = Tkinter.Frame(self.main_window)\n",
    "        \n",
    "        # Create the Checkbuttons\n",
    "        self.names = {}\n",
    "        self.var_dict = {}\n",
    "        self.button_dict = {}\n",
    "        count = 0\n",
    "        for name in names:\n",
    "            self.var_dict[\"var{0}\".format(count)] = Tkinter.IntVar()\n",
    "            self.var_dict[\"var{0}\".format(count)].set(0)\n",
    "            self.names[\"var{0}\".format(count)] = name\n",
    "            self.button_dict[\"button{0}\".format(count)] = Tkinter.Checkbutton(self.top_frame, \\\n",
    "                                                text = name, variable=self.var_dict[\"var{0}\".format(count)])\n",
    "            self.button_dict[\"button{0}\".format(count)].pack()\n",
    "            count += 1\n",
    "        \n",
    "        # Create an OK button and a Confirm button.\n",
    "        self.confirm_button = Tkinter.Button(self.bottom_frame, \\\n",
    "                      text='Confirm', command=self.show_choice)\n",
    "        self.ok_button = Tkinter.Button(self.bottom_frame, \\\n",
    "                      text='OK', command=self.main_window.destroy)\n",
    "\n",
    "        # Pack the Confirm and OK Buttons.\n",
    "        self.confirm_button.pack(side='left')\n",
    "        self.ok_button.pack(side='left')\n",
    "\n",
    "        # Pack the frames.\n",
    "        self.top_frame.pack()\n",
    "        self.bottom_frame.pack()\n",
    "        \n",
    "        # Start the mainloop.\n",
    "        Tkinter.mainloop()\n",
    "\n",
    "    # The show_choice method is the callback function for the Confirm button.\n",
    "    def show_choice(self):\n",
    "        # Create a message string.\n",
    "        self.message = 'You selected:\\n'\n",
    "\n",
    "        # Determine which Checkbuttons are selected and\n",
    "        # build the message string accordingly.\n",
    "        for key in self.var_dict:\n",
    "            if self.var_dict[key].get() == 1:\n",
    "                self.message = self.message + self.names[key] + \"\\n\"\n",
    "        \n",
    "        # Display the message in an info dialog box.\n",
    "        tkMessageBox.showinfo('Selection', self.message)\n",
    "        \n",
    "    # The return_choice method returns the names of the choices made by the user in an array \n",
    "    def return_choice(self):\n",
    "        choice = []\n",
    "        for key in self.var_dict:\n",
    "            if self.var_dict[key].get() == 1:\n",
    "                choice.append(self.names[key])    \n",
    "        return choice"
   ]
  },
  {
   "cell_type": "code",
   "execution_count": 5,
   "metadata": {
    "collapsed": true
   },
   "outputs": [],
   "source": [
    "## This code block defines necessary functions used in the main loop.\n",
    "\n",
    "# This function creates an array containing the titles of all of the experiments using an array of\n",
    "# BeautifulSoup Tags.  It then returns the array\n",
    "def get_experiments(data):\n",
    "    experiments = []\n",
    "    for item in data:\n",
    "        experiments.append(item.text)\n",
    "    return experiments\n",
    "\n",
    "# This function creates a Checkbox GUI in which the user chooses one experiment to analyze.  Note that if\n",
    "# multiple experiments are selected, only the first will be analyzed.  It then returns the choice.\n",
    "def choose_experiment(experiments):\n",
    "    Gui = MyGUI(experiments, \"Choose one experiment to analyze\")\n",
    "    return Gui.return_choice()\n",
    "\n",
    "# This function obtains the datasets' titles, descriptions, and links by sifting through the BeautifulSoup\n",
    "# ResultSet.  It returns a dictionary matching the datasets with their links, along with an array of the datasets.\n",
    "def get_dataSets(rows):\n",
    "    count = 0\n",
    "    dataDict = {}\n",
    "    datasets = []\n",
    "    for iteration in range(len(rows)/5):\n",
    "        target = rows[count].text\n",
    "        link = rows[count].find(\"a\").get(\"href\")\n",
    "        dataCols = rows[count+4].text\n",
    "        info = target + \":  \" + dataCols\n",
    "        dataDict[info] = link\n",
    "        datasets.append(info)\n",
    "        count += 5\n",
    "    return dataDict, datasets\n",
    "\n",
    "# This function matches the experiment choice with the url of the link to the experiment, and then returns\n",
    "# the BeautifulSoup object of that link along with setting dataset_loop=True\n",
    "def Exp_Loop(filtered,exp_choice):\n",
    "    for item in filtered:\n",
    "        if item.text == exp_choice[0]:\n",
    "            url = 'https://misportal.jlab.org%s' %(item.get(\"href\"))\n",
    "\n",
    "    r_exp = req.get(url)\n",
    "\n",
    "    soupData = bs(r_exp.content, \"html5lib\")\n",
    "    dataset_loop = True\n",
    "    return soupData,dataset_loop\n",
    "\n",
    "# This function uses the function get_dataSets, and then creaes a Gui for the user to choose one dataset to analyze.\n",
    "# It then creates a BeautifulSoup object for the dataset link, and then downloads the csv file of the data\n",
    "# This is then converted to a pandas dataframe, and is returned along with plot_loop=True and data_choice\n",
    "def Dataset_Loop(soupData):\n",
    "        table = soupData.find(lambda tag: tag.name=='table' and tag.has_attr('id') and tag['id']==\"dsTable\") \n",
    "        #rows_tr = table.findAll(lambda tag: tag.name=='tr')\n",
    "        rows_td = table.findAll(lambda tag: tag.name=='td')\n",
    "\n",
    "        dataDict, datasets = get_dataSets(rows_td)\n",
    "\n",
    "        secondGui = MyGUI(datasets, \"Choose one dataset to analyze\")\n",
    "        data_choice = secondGui.return_choice()\n",
    "\n",
    "        url2 = 'https://misportal.jlab.org%s' %(dataDict[data_choice[0]])\n",
    "\n",
    "        r_data = req.get(url2)\n",
    "\n",
    "        soup3 = bs(r_data.content, \"html5lib\")\n",
    "\n",
    "        downloads = soup3.find(\"div\", id = \"downloadOptions\")\n",
    "\n",
    "        url3= \"https://misportal.jlab.org%s\" %(downloads.find(\"a\").get(\"href\"))\n",
    "        s = req.get(url3).content\n",
    "        c=pd.read_csv(io.StringIO(s.decode('utf-8')))\n",
    "        plot_loop = True\n",
    "        return c,plot_loop,data_choice\n",
    "    "
   ]
  },
  {
   "cell_type": "code",
   "execution_count": 6,
   "metadata": {
    "collapsed": true
   },
   "outputs": [],
   "source": [
    "## This code block defines functions used in the plot_loop\n",
    "\n",
    "# This function creates GUIs for the user to select most of the plot options.  It then returns x, y, and\n",
    "# the type of the plot\n",
    "def Plot_Options():\n",
    "    xGui = MyGUI(pandaDF.columns, \"Choose one variable for the x axis\")\n",
    "    yGui = MyGUI(pandaDF.columns, \"Choose one or multiple variables for the y axis\")\n",
    "    x = xGui.return_choice()\n",
    "    y = yGui.return_choice()\n",
    "    typeOfPlotGui = MyGUI([\"Line Chart\",\"Scatterplot with Error Bars\"],\"What kind of plot would you like?\")\n",
    "    typeOfPlot = typeOfPlotGui.return_choice()[0]\n",
    "    return x,y,typeOfPlot\n",
    "\n",
    "# This function creates the line chart figure and returns it for display in the loop\n",
    "def Make_Line_Chart(x,y,exp_choice,data_choice):\n",
    "    dataList = []\n",
    "    for yItem in y:\n",
    "        obj = go.Scatter(\n",
    "        x=sortedFrame[x[0]], y=sortedFrame[yItem],\n",
    "        line=go.Line(\n",
    "            width=3),\n",
    "        name='%s vs %s' %(x[0],yItem))\n",
    "\n",
    "        dataList.append(obj)\n",
    "\n",
    "    data = go.Data(dataList)\n",
    "    length = len(dataList)\n",
    "    layout = go.Layout(             # all \"layout\" attributes: /python/reference/#layout\n",
    "        title=\"Experiment:  \" + exp_choice[0] + \"<br>\" + \"Data:  \" + data_choice[0].replace(\"\\n\",\"<br>\"),\n",
    "        updatemenus=list([\n",
    "            dict(\n",
    "                x=-0.05,\n",
    "                y=1,\n",
    "                yanchor='top',\n",
    "                buttons=list([\n",
    "                    dict(\n",
    "                        args=['visible', [True]*length],\n",
    "                        label='Total Graph',\n",
    "                        method='restyle'\n",
    "                    )\n",
    "                ]),\n",
    "            )\n",
    "        ]),\n",
    "    )\n",
    "\n",
    "    figure = go.Figure(data=data, layout=layout)\n",
    "    return figure\n",
    "\n",
    "# This function creates the Scatterplot figure and returns it for display in the loop\n",
    "def Make_Scatterplot(x,y,exp_choice,data_choice,sortedFrame):\n",
    "    errorGui = MyGUI(sortedFrame.columns, \"Choose errorbar data\")\n",
    "    errors = errorGui.return_choice()\n",
    "    dataList = []\n",
    "    error = {}\n",
    "    for yItem in y:\n",
    "        length = len(yItem)\n",
    "        for item in errors:\n",
    "            if yItem == item[:length]:\n",
    "                error[yItem] = item\n",
    "\n",
    "        try:\n",
    "            obj = go.Scatter(\n",
    "                x=sortedFrame[x[0]], y=sortedFrame[yItem],\n",
    "                error_y = dict(\n",
    "                    type = \"data\",\n",
    "                    array = sortedFrame[error[yItem]],\n",
    "                    visible = True\n",
    "                ),\n",
    "                mode='markers',\n",
    "                name='%s vs %s' %(x[0],yItem)\n",
    "            )\n",
    "        except NameError:\n",
    "            obj = go.Scatter(\n",
    "            x=sortedFrame[x[0]], y=sortedFrame[yItem],\n",
    "                name ='%s vs %s' %(x[0],yItem))\n",
    "\n",
    "        dataList.append(obj)\n",
    "\n",
    "    data = go.Data(dataList)\n",
    "    length = len(dataList)\n",
    "    layout = go.Layout(             # all \"layout\" attributes: /python/reference/#layout\n",
    "        title=\"Experiment:  \" + exp_choice[0] + \"<br>\" + \"Data:  \" + data_choice[0].replace(\"\\n\",\"<br>\"),\n",
    "    )\n",
    "\n",
    "    figure = go.Figure(data=data, layout=layout)\n",
    "    return figure\n",
    "\n",
    "# This function creates a GUI for the user to select what to do next.\n",
    "# It then assigns the boolean variables according to the choice selected, returning them to the main loop.\n",
    "def Next_Run(exp_loop,dataset_loop,plot_loop):\n",
    "    runGui = MyGUI([\"Choose different experiment\",\"Choose different dataset for same experiment\",\\\n",
    "                         \"Choose different plot options for same dataset\", \"End Run\"],\\\n",
    "                        \"What would you like to do next?\")\n",
    "    run = runGui.return_choice()\n",
    "\n",
    "    if run[0] == \"Choose different experiment\":\n",
    "        exp_loop = True\n",
    "        dataset_loop = False\n",
    "        plot_loop = False\n",
    "    elif run[0] == \"Choose different dataset for same experiment\":\n",
    "        exp_loop = True\n",
    "        dataset_loop = True\n",
    "        plot_loop = False\n",
    "    elif run[0] == \"End Run\":\n",
    "        exp_loop = False\n",
    "        dataset_loop = False\n",
    "        plot_loop = False\n",
    "    return exp_loop,dataset_loop,plot_loop"
   ]
  },
  {
   "cell_type": "code",
   "execution_count": 7,
   "metadata": {
    "collapsed": true
   },
   "outputs": [],
   "source": [
    "# Grab experiment list page\n",
    "r = req.get('https://misportal.jlab.org/jamDb/')"
   ]
  },
  {
   "cell_type": "markdown",
   "metadata": {
    "collapsed": true
   },
   "source": [
    "Between $\\text{<tbody>}$ and $\\text{</tbody>}$ contains all of the information that we need from this page, including links to follow, names of experiments, and descriptions.  href is the link reference.\n",
    "name is between $\\text{<a>}$ and $\\text{</a>}$\n",
    "description is line below the experiment line, or next $\\text{<td>}$ entry.\n",
    "\n",
    "Looks like maybe should use BeautifulSoup instead to be able to better deal with the data"
   ]
  },
  {
   "cell_type": "code",
   "execution_count": 8,
   "metadata": {
    "collapsed": true
   },
   "outputs": [],
   "source": [
    "# convert to BeautifulSoup object\n",
    "from bs4 import BeautifulSoup as bs\n",
    "\n",
    "soup = bs(r.content, \"html5lib\")"
   ]
  },
  {
   "cell_type": "markdown",
   "metadata": {},
   "source": [
    "Get rid of junk data that we don't want"
   ]
  },
  {
   "cell_type": "code",
   "execution_count": 9,
   "metadata": {},
   "outputs": [],
   "source": [
    "g_data = soup.find_all(\"a\")\n",
    "filtered = g_data[9:-2]\n",
    "filtered = filtered[7:]\n",
    "experiments = get_experiments(filtered)"
   ]
  },
  {
   "cell_type": "markdown",
   "metadata": {},
   "source": [
    "Now we start main loop that will allow user to graph multiple times"
   ]
  },
  {
   "cell_type": "code",
   "execution_count": 10,
   "metadata": {},
   "outputs": [
    {
     "data": {
      "text/html": [
       "<iframe id=\"igraph\" scrolling=\"no\" style=\"border:none;\" seamless=\"seamless\" src=\"https://plot.ly/~egbuck/194.embed\" height=\"525px\" width=\"100%\"></iframe>"
      ],
      "text/plain": [
       "<plotly.tools.PlotlyDisplay object>"
      ]
     },
     "metadata": {},
     "output_type": "display_data"
    },
    {
     "data": {
      "text/html": [
       "<iframe id=\"igraph\" scrolling=\"no\" style=\"border:none;\" seamless=\"seamless\" src=\"https://plot.ly/~egbuck/196.embed\" height=\"525px\" width=\"100%\"></iframe>"
      ],
      "text/plain": [
       "<plotly.tools.PlotlyDisplay object>"
      ]
     },
     "metadata": {},
     "output_type": "display_data"
    }
   ],
   "source": [
    "exp_loop = True\n",
    "\n",
    "while exp_loop:\n",
    "    \n",
    "    exp_choice = choose_experiment(experiments)\n",
    "\n",
    "    soupData,dataset_loop = Exp_Loop(filtered,exp_choice)\n",
    "    \n",
    "    while dataset_loop:\n",
    "        \n",
    "        pandaDF,plot_loop,data_choice = Dataset_Loop(soupData)        \n",
    "        \n",
    "        while plot_loop:\n",
    "\n",
    "            x,y,typeOfPlot = Plot_Options()\n",
    "            sortedFrame = pandaDF.sort_values(x[0])\n",
    "            \n",
    "            if typeOfPlot == \"Line Chart\":\n",
    "                figure = Make_Line_Chart(x,y,exp_choice,data_choice)\n",
    "                display(py.iplot(figure))\n",
    "            \n",
    "            else:\n",
    "                figure = Make_Scatterplot(x,y,exp_choice,data_choice,sortedFrame)\n",
    "                display(py.iplot(figure))                \n",
    "                         \n",
    "            exp_loop,dataset_loop,plot_loop = Next_Run(exp_loop,dataset_loop,plot_loop)"
   ]
  },
  {
   "cell_type": "code",
   "execution_count": null,
   "metadata": {
    "collapsed": true
   },
   "outputs": [],
   "source": []
  }
 ],
 "metadata": {
  "kernelspec": {
   "display_name": "Python 2",
   "language": "python",
   "name": "python2"
  },
  "language_info": {
   "codemirror_mode": {
    "name": "ipython",
    "version": 2
   },
   "file_extension": ".py",
   "mimetype": "text/x-python",
   "name": "python",
   "nbconvert_exporter": "python",
   "pygments_lexer": "ipython2",
   "version": "2.7.12"
  }
 },
 "nbformat": 4,
 "nbformat_minor": 2
}
